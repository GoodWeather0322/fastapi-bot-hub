{
 "cells": [
  {
   "cell_type": "code",
   "execution_count": 1,
   "metadata": {},
   "outputs": [],
   "source": [
    "import requests\n",
    "from bs4 import BeautifulSoup\n",
    "\n",
    "session = requests.Session()"
   ]
  },
  {
   "cell_type": "code",
   "execution_count": 2,
   "metadata": {},
   "outputs": [],
   "source": [
    "response_queryTime = session.get(\"https://www.railway.gov.tw/tra-tip-web/tip/tip001/tip119/queryTime\")\n",
    "response_nonPicture = session.get(\"https://www.railway.gov.tw/tra-tip-web/tip/player/nonPicture\")\n"
   ]
  },
  {
   "cell_type": "code",
   "execution_count": 3,
   "metadata": {},
   "outputs": [
    {
     "data": {
      "text/plain": [
       "'08b5f27c-fae6-4d9b-b199-22b690785b98'"
      ]
     },
     "execution_count": 3,
     "metadata": {},
     "output_type": "execute_result"
    }
   ],
   "source": [
    "soup = BeautifulSoup(response_queryTime.content, 'html.parser')\n",
    "csrf_input = soup.find('form').find('input', {'name': '_csrf'})\n",
    "csrf_value = csrf_input.get('value')\n",
    "csrf_value\n"
   ]
  },
  {
   "cell_type": "code",
   "execution_count": 4,
   "metadata": {},
   "outputs": [
    {
     "name": "stdout",
     "output_type": "stream",
     "text": [
      "已轉換: captcha_audio_slice_1917236868.wav\n"
     ]
    }
   ],
   "source": [
    "from pydub import AudioSegment\n",
    "import secrets\n",
    "import io\n",
    "\n",
    "\n",
    "    \n",
    "random_value = secrets.randbits(32)\n",
    "change_code_url = f\"https://www.railway.gov.tw/tra-tip-web/tip/player/changeVoiceVerifyCode?pageRandom={random_value}\"\n",
    "response = session.get(change_code_url)\n",
    "\n",
    "# 下載音頻\n",
    "random_value = secrets.randbits(32)\n",
    "audio_url = f\"https://www.railway.gov.tw/tra-tip-web/tip/player/audio?pageRandom={random_value}\"\n",
    "response = session.get(audio_url)\n",
    "\n",
    "# 方法1：直接從內存處理\n",
    "audio = AudioSegment.from_mp3(io.BytesIO(response.content))\n",
    "\n",
    "start_time = 15500  \n",
    "end_time = 32500    \n",
    "audio_slice = audio[start_time:end_time]\n",
    "\n",
    "\n",
    "output_wav_path = f\"captcha_audio_slice_{random_value}.wav\"\n",
    "\n",
    "audio_slice.export(output_wav_path, format='wav')\n",
    "print(f\"已轉換: {output_wav_path}\")"
   ]
  },
  {
   "cell_type": "code",
   "execution_count": 5,
   "metadata": {},
   "outputs": [],
   "source": [
    "import azure.cognitiveservices.speech as speechsdk\n",
    "import time\n",
    "\n",
    "            \n",
    "def speech_recognize_continuous_from_file(file_path):\n",
    "    \n",
    "    result_text = []\n",
    "\n",
    "            \n",
    "    def result_callback(event_type: str, evt: speechsdk.SpeechRecognitionEventArgs):\n",
    "        \"\"\"callback to display a translation result\"\"\"\n",
    "        nonlocal result_text\n",
    "        if event_type == 'RECOGNIZING':\n",
    "            pass\n",
    "        elif event_type == 'RECOGNIZED':\n",
    "            result_text.append(evt.result.text)\n",
    "            \n",
    "    \"\"\"performs continuous speech recognition with input from an audio file\"\"\"\n",
    "    # <SpeechContinuousRecognitionWithFile>\n",
    "    speech_config = speechsdk.SpeechConfig(subscription='f9d5f7f373ab494b8a707016cdf994d7', region='eastasia')\n",
    "    speech_config.speech_recognition_language=\"zh-TW\"\n",
    "    audio_config = speechsdk.audio.AudioConfig(filename=file_path)\n",
    "\n",
    "    speech_recognizer = speechsdk.SpeechRecognizer(speech_config=speech_config, audio_config=audio_config)\n",
    "\n",
    "    done = False\n",
    "\n",
    "    def stop_cb(evt: speechsdk.SessionEventArgs):\n",
    "        \"\"\"callback that signals to stop continuous recognition upon receiving an event `evt`\"\"\"\n",
    "        print('CLOSING on {}'.format(evt))\n",
    "        nonlocal done\n",
    "        done = True\n",
    "\n",
    "    # Connect callbacks to the events fired by the speech recognizer\n",
    "    speech_recognizer.recognizing.connect(lambda evt: result_callback(\"RECOGNIZING\", evt))\n",
    "    speech_recognizer.recognized.connect(lambda evt: result_callback(\"RECOGNIZED\", evt))\n",
    "    # speech_recognizer.session_started.connect(lambda evt: print('SESSION STARTED: {}'.format(evt)))\n",
    "    # speech_recognizer.session_stopped.connect(lambda evt: print('SESSION STOPPED {}'.format(evt)))\n",
    "    speech_recognizer.canceled.connect(lambda evt: print('CANCELED {}'.format(evt)))\n",
    "    # Stop continuous recognition on either session stopped or canceled events\n",
    "    speech_recognizer.session_stopped.connect(stop_cb)\n",
    "    speech_recognizer.canceled.connect(stop_cb)\n",
    "\n",
    "    # Start continuous speech recognition\n",
    "    speech_recognizer.start_continuous_recognition()\n",
    "    while not done:\n",
    "        time.sleep(.5)\n",
    "\n",
    "    speech_recognizer.stop_continuous_recognition()\n",
    "    \n",
    "    return result_text\n",
    "    # </SpeechContinuousRecognitionWithFile>"
   ]
  },
  {
   "cell_type": "code",
   "execution_count": 6,
   "metadata": {},
   "outputs": [
    {
     "name": "stdout",
     "output_type": "stream",
     "text": [
      "CANCELED SpeechRecognitionCanceledEventArgs(session_id=e969afceed754aa6b6110d9d0a195227, result=SpeechRecognitionResult(result_id=c9f28f2f8914479880a7d267071235ea, text=\"\", reason=ResultReason.Canceled))\n",
      "CLOSING on SpeechRecognitionCanceledEventArgs(session_id=e969afceed754aa6b6110d9d0a195227, result=SpeechRecognitionResult(result_id=c9f28f2f8914479880a7d267071235ea, text=\"\", reason=ResultReason.Canceled))\n",
      "CLOSING on SessionEventArgs(session_id=e969afceed754aa6b6110d9d0a195227)\n"
     ]
    },
    {
     "data": {
      "text/plain": [
       "['RT。', 'P。', 'MHX。', '現在播放驗證碼第。']"
      ]
     },
     "execution_count": 6,
     "metadata": {},
     "output_type": "execute_result"
    }
   ],
   "source": [
    "result_text = speech_recognize_continuous_from_file(output_wav_path)\n",
    "result_text"
   ]
  },
  {
   "cell_type": "code",
   "execution_count": 7,
   "metadata": {},
   "outputs": [
    {
     "data": {
      "text/plain": [
       "'RTPMHX現在播放驗證碼第'"
      ]
     },
     "execution_count": 7,
     "metadata": {},
     "output_type": "execute_result"
    }
   ],
   "source": [
    "import string\n",
    "def remove_punctuation(text):\n",
    "    # 英文標點\n",
    "    text = text.translate(str.maketrans('', '', string.punctuation))\n",
    "    \n",
    "    # 中文標點\n",
    "    chinese_punc = '，。！？【】（）《》\"\"''；：、'\n",
    "    text = text.translate(str.maketrans('', '', chinese_punc))\n",
    "    \n",
    "    # 去除多餘空格\n",
    "    text = ''.join(text.split())\n",
    "    \n",
    "    return text\n",
    "\n",
    "result_text = ' '.join(result_text)\n",
    "result_text = remove_punctuation(result_text)\n",
    "result_text"
   ]
  },
  {
   "cell_type": "code",
   "execution_count": 8,
   "metadata": {},
   "outputs": [
    {
     "data": {
      "text/plain": [
       "'RTPMHX'"
      ]
     },
     "execution_count": 8,
     "metadata": {},
     "output_type": "execute_result"
    }
   ],
   "source": [
    "if '現在' in result_text:\n",
    "    result_text = result_text.split('現在')[0]\n",
    "else:\n",
    "    raise Exception('無法從音頻中識別出現在')\n",
    "\n",
    "if len(result_text) != 6:\n",
    "    raise Exception('驗證碼長度不正確')\n",
    "\n",
    "result_text\n"
   ]
  },
  {
   "cell_type": "code",
   "execution_count": 9,
   "metadata": {},
   "outputs": [
    {
     "data": {
      "text/plain": [
       "'rtpmhx'"
      ]
     },
     "execution_count": 9,
     "metadata": {},
     "output_type": "execute_result"
    }
   ],
   "source": [
    "num_map = {\n",
    "    '零': '0', '一': '1', '二': '2', '三': '3', '四': '4',\n",
    "    '五': '5', '六': '6', '七': '7', '八': '8', '九': '9'\n",
    "}\n",
    "\n",
    "for word, num in num_map.items():\n",
    "    result_text = result_text.replace(word, num)\n",
    "\n",
    "result_text = result_text.lower()\n",
    "result_text\n"
   ]
  },
  {
   "cell_type": "code",
   "execution_count": 10,
   "metadata": {},
   "outputs": [],
   "source": [
    "search_url = \"https://www.railway.gov.tw/tra-tip-web/tip/tip001/tip119/search\"\n",
    "\n",
    "form_data = {\n",
    "    '_csrf': csrf_value,  # 從之前的請求中獲取\n",
    "    'rideDate': '2024/11/17',\n",
    "    'startStation': '0930-七堵',\n",
    "    'endStation': '4310-岡山',\n",
    "    'startOrEndTime': 'true',\n",
    "    'startTime': '15:00',\n",
    "    'endTime': '23:00',\n",
    "    'g-recaptcha-response': None, # 這個需要從實際的 reCAPTCHA 響應中獲取\n",
    "    'hiddenRecaptcha': '',\n",
    "    'verifyType': 'voice',\n",
    "    'verifyCode': result_text\n",
    "}\n"
   ]
  },
  {
   "cell_type": "code",
   "execution_count": 11,
   "metadata": {},
   "outputs": [
    {
     "name": "stdout",
     "output_type": "stream",
     "text": [
      "請求成功\n"
     ]
    }
   ],
   "source": [
    "response = session.post(\n",
    "    search_url,\n",
    "    data=form_data,\n",
    ")\n",
    "# 檢查響應\n",
    "if response.status_code == 200:\n",
    "    print(\"請求成功\")\n",
    "    # 解析響應內容\n",
    "    soup = BeautifulSoup(response.content, 'html.parser')\n",
    "    # 處理響應...\n",
    "else:\n",
    "    print(f\"請求失敗: {response.status_code}\")"
   ]
  },
  {
   "cell_type": "code",
   "execution_count": 12,
   "metadata": {},
   "outputs": [],
   "source": [
    "soup = BeautifulSoup(response.content, 'html.parser')"
   ]
  },
  {
   "cell_type": "code",
   "execution_count": 13,
   "metadata": {},
   "outputs": [
    {
     "name": "stdout",
     "output_type": "stream",
     "text": [
      "找到表格：\n",
      "車次資訊：\n",
      "{'出發時間': '15:30', '抵達時間': '20:38', '旅程時間': '05時08分', '車種車次': '自強175', '經由': '山', '餘票狀態': '沒票', '全票票價': '$ 845', '優待票價': '$ 423'}\n",
      "{'出發時間': '15:41', '抵達時間': '22:30', '旅程時間': '06時49分', '車種車次': '莒光521', '經由': '海', '餘票狀態': '沒票', '全票票價': '$ 652', '優待票價': '$ 326'}\n",
      "{'出發時間': '17:38', '抵達時間': '22:41', '旅程時間': '05時03分', '車種車次': '自強(3000)145', '經由': '海', '餘票狀態': '沒票', '全票票價': '$ 845', '優待票價': '$ 423'}\n"
     ]
    }
   ],
   "source": [
    "table = soup.find('table', {'class': 'itinerary-controls'})\n",
    "\n",
    "if table:\n",
    "    print(\"找到表格：\")\n",
    "    trips = table.find_all(class_='trip-column')\n",
    "    if trips:\n",
    "        print(\"車次資訊：\")\n",
    "        for trip in trips:\n",
    "            # 取得基本資訊（直接從 td 元素）\n",
    "            tds = trip.find_all('td')\n",
    "            \n",
    "            # 取得車種車次（從 a 元素）\n",
    "            train_info = trip.find('a', {'class': 'links'})\n",
    "            \n",
    "            # 取得票價\n",
    "            price = trip.find('span').text.strip() if trip.find('span') else \"N/A\"\n",
    "            \n",
    "            ticket_status_class_names = tds[6].find('div', {'class': 'icon-fa'}).get('class')\n",
    "            if  'times' in ticket_status_class_names and 'red' in ticket_status_class_names:\n",
    "                ticket_status = '沒票'\n",
    "            elif 'exclamation-triangle' in ticket_status_class_names and 'color-red' in ticket_status_class_names:\n",
    "                ticket_status = '有票 < 30'\n",
    "            elif 'green' in ticket_status_class_names and 'check-circle' in ticket_status_class_names:\n",
    "                ticket_status = '有票 > 30'\n",
    "            else:\n",
    "                ticket_status = '未知'\n",
    "            # 整理資訊\n",
    "            train_data = {\n",
    "                \"出發時間\": tds[0].text.strip(),\n",
    "                \"抵達時間\": tds[1].text.strip(),\n",
    "                \"旅程時間\": tds[2].text.strip(),\n",
    "                \"車種車次\": train_info.text.strip() if train_info else \"N/A\",\n",
    "                \"經由\": tds[4].text.strip(),\n",
    "                \"餘票狀態\": ticket_status,\n",
    "                \"全票票價\": tds[7].find('span').text.strip(),\n",
    "                \"優待票價\": tds[8].find('span').text.strip()\n",
    "            }\n",
    "            print(train_data)\n",
    "    else:\n",
    "        print(\"找不到車次資訊\")\n",
    "else:\n",
    "    print(\"找不到指定的表格\")\n",
    "    \n",
    "    # 輸出整個 HTML 以便檢查\n",
    "    print(\"\\n頁面內容：\")\n",
    "    print(soup.prettify()[:500])  # 只顯示前500字符"
   ]
  },
  {
   "cell_type": "code",
   "execution_count": null,
   "metadata": {},
   "outputs": [],
   "source": []
  }
 ],
 "metadata": {
  "kernelspec": {
   "display_name": "base",
   "language": "python",
   "name": "python3"
  },
  "language_info": {
   "codemirror_mode": {
    "name": "ipython",
    "version": 3
   },
   "file_extension": ".py",
   "mimetype": "text/x-python",
   "name": "python",
   "nbconvert_exporter": "python",
   "pygments_lexer": "ipython3",
   "version": "3.12.4"
  }
 },
 "nbformat": 4,
 "nbformat_minor": 2
}
